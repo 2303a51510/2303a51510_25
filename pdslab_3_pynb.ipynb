{
  "nbformat": 4,
  "nbformat_minor": 0,
  "metadata": {
    "colab": {
      "provenance": [],
      "authorship_tag": "ABX9TyNW0IvVE3FP3N+KWKeHsm8k",
      "include_colab_link": true
    },
    "kernelspec": {
      "name": "python3",
      "display_name": "Python 3"
    },
    "language_info": {
      "name": "python"
    }
  },
  "cells": [
    {
      "cell_type": "markdown",
      "metadata": {
        "id": "view-in-github",
        "colab_type": "text"
      },
      "source": [
        "<a href=\"https://colab.research.google.com/github/2303a51510/2303a51510_25/blob/main/pdslab_3_pynb.ipynb\" target=\"_parent\"><img src=\"https://colab.research.google.com/assets/colab-badge.svg\" alt=\"Open In Colab\"/></a>"
      ]
    },
    {
      "cell_type": "code",
      "execution_count": 1,
      "metadata": {
        "colab": {
          "base_uri": "https://localhost:8080/"
        },
        "id": "qP2eoiIf72vg",
        "outputId": "6f4173d9-bc6c-4126-94cb-2be50532a8b3"
      },
      "outputs": [
        {
          "output_type": "stream",
          "name": "stdout",
          "text": [
            "Test Scores (4x4 Matrix):\n",
            " [[ 68  64 100  83]\n",
            " [ 82  72  50  69]\n",
            " [ 61  53  76  98]\n",
            " [ 92  92  71  74]]\n",
            "\n",
            "Row-wise Means: [78.75 68.25 72.   82.25]\n",
            "Column-wise Means: [75.75 70.25 74.25 81.  ]\n",
            "\n",
            "Standard Deviation (Global): 14.537532244160285\n",
            "Variance (Global): 211.33984375\n",
            "\n",
            "Global Max: 100 at index (np.int64(0), np.int64(2))\n",
            "Global Min: 50 at index (np.int64(1), np.int64(2))\n",
            "\n",
            "Row-wise Medians: [75.5 70.5 68.5 83. ]\n",
            "Column-wise Medians: [75.  68.  73.5 78.5]\n",
            "Overall Median: 73.0\n"
          ]
        }
      ],
      "source": [
        "import numpy as np\n",
        "\n",
        "# Step 1: Generate a 2D array (4x4) with test scores (random integers 50–100)\n",
        "scores = np.random.randint(50, 101, size=(4, 4))\n",
        "print(\"Test Scores (4x4 Matrix):\\n\", scores)\n",
        "\n",
        "# Step 2: Row-wise and column-wise means\n",
        "row_means = np.mean(scores, axis=1)\n",
        "col_means = np.mean(scores, axis=0)\n",
        "\n",
        "print(\"\\nRow-wise Means:\", row_means)\n",
        "print(\"Column-wise Means:\", col_means)\n",
        "\n",
        "# Step 3: Standard deviation and variance\n",
        "std_dev = np.std(scores)\n",
        "variance = np.var(scores)\n",
        "\n",
        "print(\"\\nStandard Deviation (Global):\", std_dev)\n",
        "print(\"Variance (Global):\", variance)\n",
        "\n",
        "# Step 4: Global max, min and their indices\n",
        "global_max = np.max(scores)\n",
        "global_min = np.min(scores)\n",
        "\n",
        "max_index = np.unravel_index(np.argmax(scores), scores.shape)\n",
        "min_index = np.unravel_index(np.argmin(scores), scores.shape)\n",
        "\n",
        "print(\"\\nGlobal Max:\", global_max, \"at index\", max_index)\n",
        "print(\"Global Min:\", global_min, \"at index\", min_index)\n",
        "\n",
        "# Step 5: Median calculations\n",
        "row_medians = np.median(scores, axis=1)\n",
        "col_medians = np.median(scores, axis=0)\n",
        "overall_median = np.median(scores)\n",
        "\n",
        "print(\"\\nRow-wise Medians:\", row_medians)\n",
        "print(\"Column-wise Medians:\", col_medians)\n",
        "print(\"Overall Median:\", overall_median)\n"
      ]
    },
    {
      "cell_type": "code",
      "source": [
        "import numpy as np\n",
        "\n",
        "# Step 1: Create a 3D NumPy array of shape (3x3x3) → simulate a 3x3 RGB image\n",
        "# Values between 0–255 (pixel intensities)\n",
        "image = np.random.randint(0, 256, size=(3, 3, 3), dtype=np.uint8)\n",
        "print(\"Original Image Array (3x3x3):\\n\", image)\n",
        "\n",
        "# Step 2: Extract red, green, and blue channels\n",
        "red_channel = image[:, :, 0]\n",
        "green_channel = image[:, :, 1]\n",
        "blue_channel = image[:, :, 2]\n",
        "\n",
        "print(\"\\nRed Channel:\\n\", red_channel)\n",
        "print(\"\\nGreen Channel:\\n\", green_channel)\n",
        "print(\"\\nBlue Channel:\\n\", blue_channel)\n",
        "\n",
        "# Step 3: Compute average pixel intensity per channel\n",
        "avg_red = np.mean(red_channel)\n",
        "avg_green = np.mean(green_channel)\n",
        "avg_blue = np.mean(blue_channel)\n",
        "\n",
        "print(\"\\nAverage Intensities - Red:\", avg_red,\n",
        "      \" Green:\", avg_green,\n",
        "      \" Blue:\", avg_blue)\n",
        "\n",
        "# Step 4: Brighten the image by adding scalar (clip at 255)\n",
        "brightened_image = np.clip(image + 50, 0, 255)  # add +50 intensity\n",
        "print(\"\\nBrightened Image Array (Clipped at 255):\\n\", brightened_image)\n",
        "\n",
        "# Step 5: Check difference between original and brightened image\n",
        "diff = brightened_image - image\n",
        "print(\"\\nBrightness Increase per Pixel:\\n\", diff)\n",
        "\n",
        "# (Optional) Step 6: Visualization (requires matplotlib)\n",
        "import matplotlib.pyplot as plt\n",
        "\n",
        "plt.figure(figsize=(8,4))\n",
        "\n",
        "# Original Image\n",
        "plt.subplot(1,2,1)\n",
        "plt.imshow(image)\n",
        "plt.title(\"Original Image\")\n",
        "\n",
        "# Brightened Image\n",
        "plt.subplot(1,2,2)\n",
        "plt.imshow(brightened_image)\n",
        "plt.title(\"Brightened Image\")\n",
        "\n",
        "plt.show()\n"
      ],
      "metadata": {
        "colab": {
          "base_uri": "https://localhost:8080/",
          "height": 1000
        },
        "id": "J_020Wbf8YlQ",
        "outputId": "85fbe3c4-660a-41ee-9736-9314643483ad"
      },
      "execution_count": 2,
      "outputs": [
        {
          "output_type": "stream",
          "name": "stdout",
          "text": [
            "Original Image Array (3x3x3):\n",
            " [[[183  47 241]\n",
            "  [ 57 205 165]\n",
            "  [134  18 193]]\n",
            "\n",
            " [[112 121  25]\n",
            "  [  0 135 214]\n",
            "  [ 58  31 123]]\n",
            "\n",
            " [[ 60 127  48]\n",
            "  [236  24 114]\n",
            "  [ 97  38 158]]]\n",
            "\n",
            "Red Channel:\n",
            " [[183  57 134]\n",
            " [112   0  58]\n",
            " [ 60 236  97]]\n",
            "\n",
            "Green Channel:\n",
            " [[ 47 205  18]\n",
            " [121 135  31]\n",
            " [127  24  38]]\n",
            "\n",
            "Blue Channel:\n",
            " [[241 165 193]\n",
            " [ 25 214 123]\n",
            " [ 48 114 158]]\n",
            "\n",
            "Average Intensities - Red: 104.11111111111111  Green: 82.88888888888889  Blue: 142.33333333333334\n",
            "\n",
            "Brightened Image Array (Clipped at 255):\n",
            " [[[233  97  35]\n",
            "  [107 255 215]\n",
            "  [184  68 243]]\n",
            "\n",
            " [[162 171  75]\n",
            "  [ 50 185   8]\n",
            "  [108  81 173]]\n",
            "\n",
            " [[110 177  98]\n",
            "  [ 30  74 164]\n",
            "  [147  88 208]]]\n",
            "\n",
            "Brightness Increase per Pixel:\n",
            " [[[50 50 50]\n",
            "  [50 50 50]\n",
            "  [50 50 50]]\n",
            "\n",
            " [[50 50 50]\n",
            "  [50 50 50]\n",
            "  [50 50 50]]\n",
            "\n",
            " [[50 50 50]\n",
            "  [50 50 50]\n",
            "  [50 50 50]]]\n"
          ]
        },
        {
          "output_type": "display_data",
          "data": {
            "text/plain": [
              "<Figure size 800x400 with 2 Axes>"
            ],
            "image/png": "[encoded data removed]"
          },
          "metadata": {}
        }
      ]
    }
  ]
}